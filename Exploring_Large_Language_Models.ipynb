{
  "nbformat": 4,
  "nbformat_minor": 0,
  "metadata": {
    "colab": {
      "provenance": [],
      "authorship_tag": "ABX9TyP7aux89RR0O++a8y1kUwke",
      "include_colab_link": true
    },
    "kernelspec": {
      "name": "python3",
      "display_name": "Python 3"
    },
    "language_info": {
      "name": "python"
    }
  },
  "cells": [
    {
      "cell_type": "markdown",
      "metadata": {
        "id": "view-in-github",
        "colab_type": "text"
      },
      "source": [
        "<a href=\"https://colab.research.google.com/github/MaryamMirchegini/Large-Language-Models/blob/main/Exploring_Large_Language_Models.ipynb\" target=\"_parent\"><img src=\"https://colab.research.google.com/assets/colab-badge.svg\" alt=\"Open In Colab\"/></a>"
      ]
    },
    {
      "cell_type": "code",
      "source": [
        "from transformers import pipeline"
      ],
      "metadata": {
        "id": "ECQg3hAAipUs"
      },
      "execution_count": 8,
      "outputs": []
    },
    {
      "cell_type": "code",
      "execution_count": null,
      "metadata": {
        "id": "zjF5PO6zijZw"
      },
      "outputs": [],
      "source": [
        "# Initialize the text generation pipeline\n",
        "text_generator = pipeline(\"text-generation\")\n",
        "\n",
        "# Prompt the LLM with a starting sentence\n",
        "prompt = \"Once upon a time, there was a brave knight...\"\n",
        "\n",
        "# Generate text based on the prompt\n",
        "generated_text = text_generator(prompt)\n",
        "\n",
        "# Print the generated text\n",
        "print(generated_text[0][\"generated_text\"])"
      ]
    },
    {
      "cell_type": "code",
      "source": [
        "# Initialize the sentiment analysis pipeline\n",
        "sentiment_analyzer = pipeline(\"sentiment-analysis\")\n",
        "\n",
        "# Analyze the sentiment of a few sentences\n",
        "sentences = [\n",
        "    \"This movie is absolutely fantastic! I loved it.\",\n",
        "    \"The food was disappointing. It was bland and overpriced.\",\n",
        "    \"This book is a must-read for anyone interested in history.\",\n",
        "    \"The service at this hotel was terrible. I wouldn't stay here again.\",\n",
        "]\n",
        "\n",
        "# Analyze the sentiment of each sentence\n",
        "for sentence in sentences:\n",
        "    sentiment = sentiment_analyzer(sentence)[0]\n",
        "    print(f\"Sentence: {sentence}\")\n",
        "    print(f\"Sentiment: {sentiment['label']} ({sentiment['score']:.2f})\")"
      ],
      "metadata": {
        "id": "k8tqB6g1jgtK"
      },
      "execution_count": null,
      "outputs": []
    },
    {
      "cell_type": "code",
      "source": [
        "import yfinance as yf\n",
        "\n",
        "def get_stock_data(ticker):\n",
        "    stock = yf.Ticker(ticker)\n",
        "    data = stock.history(period='1y')\n",
        "    return data"
      ],
      "metadata": {
        "id": "BX76tj0VvjQ9"
      },
      "execution_count": 11,
      "outputs": []
    },
    {
      "cell_type": "code",
      "source": [
        "from bs4 import BeautifulSoup\n",
        "import requests\n",
        "\n",
        "def get_stock_news(ticker):\n",
        "    url = f'https://finance.yahoo.com/quote/{ticker}?p={ticker}&.tsrc=fin-srch'\n",
        "    response = requests.get(url)\n",
        "    soup = BeautifulSoup(response.text, 'html.parser')\n",
        "    headlines = [headline.text for headline in soup.find_all('h3', class_='Mb(5px)')]\n",
        "    return headlines"
      ],
      "metadata": {
        "id": "QZCo_emlv5sn"
      },
      "execution_count": 12,
      "outputs": []
    },
    {
      "cell_type": "code",
      "source": [
        "from transformers import pipeline\n",
        "\n",
        "def analyze_sentiment(text):\n",
        "    sentiment_analyzer = pipeline('sentiment-analysis')\n",
        "    result = sentiment_analyzer(text)\n",
        "    return result[0]['label']"
      ],
      "metadata": {
        "id": "_fD6V8zVv6KB"
      },
      "execution_count": 13,
      "outputs": []
    },
    {
      "cell_type": "code",
      "source": [
        "# Example usage for a stock (e.g., Apple - AAPL)\n",
        "stock_ticker = 'AAPL'\n",
        "\n",
        "# Get stock data\n",
        "stock_data = get_stock_data(stock_ticker)\n",
        "\n",
        "# Get stock news\n",
        "news_headlines = get_stock_news(stock_ticker)\n",
        "\n",
        "# Analyze sentiment for each news headline\n",
        "sentiments = [analyze_sentiment(headline) for headline in news_headlines]\n",
        "\n",
        "# Print stock data\n",
        "print(f\"Stock Data for {stock_ticker}:\\n{stock_data}\")\n",
        "\n",
        "# Print news headlines and sentiments\n",
        "print(\"\\nNews Headlines:\")\n",
        "for headline, sentiment in zip(news_headlines, sentiments):\n",
        "    print(f\"- {headline} (Sentiment: {sentiment})\")"
      ],
      "metadata": {
        "colab": {
          "base_uri": "https://localhost:8080/"
        },
        "id": "BL6h67-Mv_Z3",
        "outputId": "3af1f444-c854-4caa-af27-c0fd0cbdf362"
      },
      "execution_count": 14,
      "outputs": [
        {
          "output_type": "stream",
          "name": "stdout",
          "text": [
            "Stock Data for AAPL:\n",
            "                                 Open        High         Low       Close  \\\n",
            "Date                                                                        \n",
            "2023-07-31 00:00:00-04:00  195.024277  195.452013  194.228500  195.412216   \n",
            "2023-08-01 00:00:00-04:00  195.203337  195.690739  194.248402  194.576660   \n",
            "2023-08-02 00:00:00-04:00  194.009664  194.148924  190.836528  191.562668   \n",
            "2023-08-03 00:00:00-04:00  190.558022  191.353784  189.682666  190.160126   \n",
            "2023-08-04 00:00:00-04:00  184.539946  186.390120  180.958957  181.028595   \n",
            "...                               ...         ...         ...         ...   \n",
            "2024-07-24 00:00:00-04:00  224.000000  224.800003  217.130005  218.539993   \n",
            "2024-07-25 00:00:00-04:00  218.929993  220.850006  214.619995  217.490005   \n",
            "2024-07-26 00:00:00-04:00  218.699997  219.490005  216.009995  217.960007   \n",
            "2024-07-29 00:00:00-04:00  216.960007  219.300003  215.750000  218.240005   \n",
            "2024-07-30 00:00:00-04:00  219.190002  220.330002  216.119995  218.800003   \n",
            "\n",
            "                              Volume  Dividends  Stock Splits  \n",
            "Date                                                           \n",
            "2023-07-31 00:00:00-04:00   38824100        0.0           0.0  \n",
            "2023-08-01 00:00:00-04:00   35175100        0.0           0.0  \n",
            "2023-08-02 00:00:00-04:00   50389300        0.0           0.0  \n",
            "2023-08-03 00:00:00-04:00   61235200        0.0           0.0  \n",
            "2023-08-04 00:00:00-04:00  115799700        0.0           0.0  \n",
            "...                              ...        ...           ...  \n",
            "2024-07-24 00:00:00-04:00   61777600        0.0           0.0  \n",
            "2024-07-25 00:00:00-04:00   51391200        0.0           0.0  \n",
            "2024-07-26 00:00:00-04:00   41601300        0.0           0.0  \n",
            "2024-07-29 00:00:00-04:00   36311800        0.0           0.0  \n",
            "2024-07-30 00:00:00-04:00   41518300        0.0           0.0  \n",
            "\n",
            "[252 rows x 7 columns]\n",
            "\n",
            "News Headlines:\n"
          ]
        }
      ]
    },
    {
      "cell_type": "code",
      "source": [],
      "metadata": {
        "id": "yWQDK4jLwUz7"
      },
      "execution_count": null,
      "outputs": []
    }
  ]
}